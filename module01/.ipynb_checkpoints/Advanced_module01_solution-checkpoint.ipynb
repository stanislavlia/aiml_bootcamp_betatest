{
 "cells": [
  {
   "cell_type": "code",
   "execution_count": 2,
   "id": "48b1b115",
   "metadata": {},
   "outputs": [],
   "source": [
    "import pandas as pd\n",
    "import seaborn as sns\n",
    "import keras\n",
    "import matplotlib.pyplot as plt"
   ]
  },
  {
   "cell_type": "markdown",
   "id": "d51d2f37",
   "metadata": {},
   "source": [
    "### EX00: Data exploration"
   ]
  },
  {
   "cell_type": "code",
   "execution_count": 3,
   "id": "aa2696e9",
   "metadata": {},
   "outputs": [],
   "source": [
    "train_data_df = pd.read_csv(\"train.csv\")\n",
    "test_data_df = pd.read_csv(\"test.csv\")\n",
    "\n"
   ]
  },
  {
   "cell_type": "code",
   "execution_count": 4,
   "id": "bf957be6",
   "metadata": {},
   "outputs": [
    {
     "data": {
      "text/html": [
       "<div>\n",
       "<style scoped>\n",
       "    .dataframe tbody tr th:only-of-type {\n",
       "        vertical-align: middle;\n",
       "    }\n",
       "\n",
       "    .dataframe tbody tr th {\n",
       "        vertical-align: top;\n",
       "    }\n",
       "\n",
       "    .dataframe thead th {\n",
       "        text-align: right;\n",
       "    }\n",
       "</style>\n",
       "<table border=\"1\" class=\"dataframe\">\n",
       "  <thead>\n",
       "    <tr style=\"text-align: right;\">\n",
       "      <th></th>\n",
       "      <th>label</th>\n",
       "      <th>pixel0</th>\n",
       "      <th>pixel1</th>\n",
       "      <th>pixel2</th>\n",
       "      <th>pixel3</th>\n",
       "      <th>pixel4</th>\n",
       "      <th>pixel5</th>\n",
       "      <th>pixel6</th>\n",
       "      <th>pixel7</th>\n",
       "      <th>pixel8</th>\n",
       "      <th>...</th>\n",
       "      <th>pixel774</th>\n",
       "      <th>pixel775</th>\n",
       "      <th>pixel776</th>\n",
       "      <th>pixel777</th>\n",
       "      <th>pixel778</th>\n",
       "      <th>pixel779</th>\n",
       "      <th>pixel780</th>\n",
       "      <th>pixel781</th>\n",
       "      <th>pixel782</th>\n",
       "      <th>pixel783</th>\n",
       "    </tr>\n",
       "  </thead>\n",
       "  <tbody>\n",
       "    <tr>\n",
       "      <th>0</th>\n",
       "      <td>1</td>\n",
       "      <td>0</td>\n",
       "      <td>0</td>\n",
       "      <td>0</td>\n",
       "      <td>0</td>\n",
       "      <td>0</td>\n",
       "      <td>0</td>\n",
       "      <td>0</td>\n",
       "      <td>0</td>\n",
       "      <td>0</td>\n",
       "      <td>...</td>\n",
       "      <td>0</td>\n",
       "      <td>0</td>\n",
       "      <td>0</td>\n",
       "      <td>0</td>\n",
       "      <td>0</td>\n",
       "      <td>0</td>\n",
       "      <td>0</td>\n",
       "      <td>0</td>\n",
       "      <td>0</td>\n",
       "      <td>0</td>\n",
       "    </tr>\n",
       "    <tr>\n",
       "      <th>1</th>\n",
       "      <td>0</td>\n",
       "      <td>0</td>\n",
       "      <td>0</td>\n",
       "      <td>0</td>\n",
       "      <td>0</td>\n",
       "      <td>0</td>\n",
       "      <td>0</td>\n",
       "      <td>0</td>\n",
       "      <td>0</td>\n",
       "      <td>0</td>\n",
       "      <td>...</td>\n",
       "      <td>0</td>\n",
       "      <td>0</td>\n",
       "      <td>0</td>\n",
       "      <td>0</td>\n",
       "      <td>0</td>\n",
       "      <td>0</td>\n",
       "      <td>0</td>\n",
       "      <td>0</td>\n",
       "      <td>0</td>\n",
       "      <td>0</td>\n",
       "    </tr>\n",
       "    <tr>\n",
       "      <th>2</th>\n",
       "      <td>1</td>\n",
       "      <td>0</td>\n",
       "      <td>0</td>\n",
       "      <td>0</td>\n",
       "      <td>0</td>\n",
       "      <td>0</td>\n",
       "      <td>0</td>\n",
       "      <td>0</td>\n",
       "      <td>0</td>\n",
       "      <td>0</td>\n",
       "      <td>...</td>\n",
       "      <td>0</td>\n",
       "      <td>0</td>\n",
       "      <td>0</td>\n",
       "      <td>0</td>\n",
       "      <td>0</td>\n",
       "      <td>0</td>\n",
       "      <td>0</td>\n",
       "      <td>0</td>\n",
       "      <td>0</td>\n",
       "      <td>0</td>\n",
       "    </tr>\n",
       "    <tr>\n",
       "      <th>3</th>\n",
       "      <td>4</td>\n",
       "      <td>0</td>\n",
       "      <td>0</td>\n",
       "      <td>0</td>\n",
       "      <td>0</td>\n",
       "      <td>0</td>\n",
       "      <td>0</td>\n",
       "      <td>0</td>\n",
       "      <td>0</td>\n",
       "      <td>0</td>\n",
       "      <td>...</td>\n",
       "      <td>0</td>\n",
       "      <td>0</td>\n",
       "      <td>0</td>\n",
       "      <td>0</td>\n",
       "      <td>0</td>\n",
       "      <td>0</td>\n",
       "      <td>0</td>\n",
       "      <td>0</td>\n",
       "      <td>0</td>\n",
       "      <td>0</td>\n",
       "    </tr>\n",
       "    <tr>\n",
       "      <th>4</th>\n",
       "      <td>0</td>\n",
       "      <td>0</td>\n",
       "      <td>0</td>\n",
       "      <td>0</td>\n",
       "      <td>0</td>\n",
       "      <td>0</td>\n",
       "      <td>0</td>\n",
       "      <td>0</td>\n",
       "      <td>0</td>\n",
       "      <td>0</td>\n",
       "      <td>...</td>\n",
       "      <td>0</td>\n",
       "      <td>0</td>\n",
       "      <td>0</td>\n",
       "      <td>0</td>\n",
       "      <td>0</td>\n",
       "      <td>0</td>\n",
       "      <td>0</td>\n",
       "      <td>0</td>\n",
       "      <td>0</td>\n",
       "      <td>0</td>\n",
       "    </tr>\n",
       "  </tbody>\n",
       "</table>\n",
       "<p>5 rows × 785 columns</p>\n",
       "</div>"
      ],
      "text/plain": [
       "   label  pixel0  pixel1  pixel2  pixel3  pixel4  pixel5  pixel6  pixel7  \\\n",
       "0      1       0       0       0       0       0       0       0       0   \n",
       "1      0       0       0       0       0       0       0       0       0   \n",
       "2      1       0       0       0       0       0       0       0       0   \n",
       "3      4       0       0       0       0       0       0       0       0   \n",
       "4      0       0       0       0       0       0       0       0       0   \n",
       "\n",
       "   pixel8  ...  pixel774  pixel775  pixel776  pixel777  pixel778  pixel779  \\\n",
       "0       0  ...         0         0         0         0         0         0   \n",
       "1       0  ...         0         0         0         0         0         0   \n",
       "2       0  ...         0         0         0         0         0         0   \n",
       "3       0  ...         0         0         0         0         0         0   \n",
       "4       0  ...         0         0         0         0         0         0   \n",
       "\n",
       "   pixel780  pixel781  pixel782  pixel783  \n",
       "0         0         0         0         0  \n",
       "1         0         0         0         0  \n",
       "2         0         0         0         0  \n",
       "3         0         0         0         0  \n",
       "4         0         0         0         0  \n",
       "\n",
       "[5 rows x 785 columns]"
      ]
     },
     "execution_count": 4,
     "metadata": {},
     "output_type": "execute_result"
    }
   ],
   "source": [
    "train_data_df.head(5)\n"
   ]
  },
  {
   "cell_type": "code",
   "execution_count": 5,
   "id": "5599884e",
   "metadata": {},
   "outputs": [
    {
     "data": {
      "text/html": [
       "<div>\n",
       "<style scoped>\n",
       "    .dataframe tbody tr th:only-of-type {\n",
       "        vertical-align: middle;\n",
       "    }\n",
       "\n",
       "    .dataframe tbody tr th {\n",
       "        vertical-align: top;\n",
       "    }\n",
       "\n",
       "    .dataframe thead th {\n",
       "        text-align: right;\n",
       "    }\n",
       "</style>\n",
       "<table border=\"1\" class=\"dataframe\">\n",
       "  <thead>\n",
       "    <tr style=\"text-align: right;\">\n",
       "      <th></th>\n",
       "      <th>pixel0</th>\n",
       "      <th>pixel1</th>\n",
       "      <th>pixel2</th>\n",
       "      <th>pixel3</th>\n",
       "      <th>pixel4</th>\n",
       "      <th>pixel5</th>\n",
       "      <th>pixel6</th>\n",
       "      <th>pixel7</th>\n",
       "      <th>pixel8</th>\n",
       "      <th>pixel9</th>\n",
       "      <th>...</th>\n",
       "      <th>pixel774</th>\n",
       "      <th>pixel775</th>\n",
       "      <th>pixel776</th>\n",
       "      <th>pixel777</th>\n",
       "      <th>pixel778</th>\n",
       "      <th>pixel779</th>\n",
       "      <th>pixel780</th>\n",
       "      <th>pixel781</th>\n",
       "      <th>pixel782</th>\n",
       "      <th>pixel783</th>\n",
       "    </tr>\n",
       "  </thead>\n",
       "  <tbody>\n",
       "    <tr>\n",
       "      <th>0</th>\n",
       "      <td>0</td>\n",
       "      <td>0</td>\n",
       "      <td>0</td>\n",
       "      <td>0</td>\n",
       "      <td>0</td>\n",
       "      <td>0</td>\n",
       "      <td>0</td>\n",
       "      <td>0</td>\n",
       "      <td>0</td>\n",
       "      <td>0</td>\n",
       "      <td>...</td>\n",
       "      <td>0</td>\n",
       "      <td>0</td>\n",
       "      <td>0</td>\n",
       "      <td>0</td>\n",
       "      <td>0</td>\n",
       "      <td>0</td>\n",
       "      <td>0</td>\n",
       "      <td>0</td>\n",
       "      <td>0</td>\n",
       "      <td>0</td>\n",
       "    </tr>\n",
       "    <tr>\n",
       "      <th>1</th>\n",
       "      <td>0</td>\n",
       "      <td>0</td>\n",
       "      <td>0</td>\n",
       "      <td>0</td>\n",
       "      <td>0</td>\n",
       "      <td>0</td>\n",
       "      <td>0</td>\n",
       "      <td>0</td>\n",
       "      <td>0</td>\n",
       "      <td>0</td>\n",
       "      <td>...</td>\n",
       "      <td>0</td>\n",
       "      <td>0</td>\n",
       "      <td>0</td>\n",
       "      <td>0</td>\n",
       "      <td>0</td>\n",
       "      <td>0</td>\n",
       "      <td>0</td>\n",
       "      <td>0</td>\n",
       "      <td>0</td>\n",
       "      <td>0</td>\n",
       "    </tr>\n",
       "    <tr>\n",
       "      <th>2</th>\n",
       "      <td>0</td>\n",
       "      <td>0</td>\n",
       "      <td>0</td>\n",
       "      <td>0</td>\n",
       "      <td>0</td>\n",
       "      <td>0</td>\n",
       "      <td>0</td>\n",
       "      <td>0</td>\n",
       "      <td>0</td>\n",
       "      <td>0</td>\n",
       "      <td>...</td>\n",
       "      <td>0</td>\n",
       "      <td>0</td>\n",
       "      <td>0</td>\n",
       "      <td>0</td>\n",
       "      <td>0</td>\n",
       "      <td>0</td>\n",
       "      <td>0</td>\n",
       "      <td>0</td>\n",
       "      <td>0</td>\n",
       "      <td>0</td>\n",
       "    </tr>\n",
       "    <tr>\n",
       "      <th>3</th>\n",
       "      <td>0</td>\n",
       "      <td>0</td>\n",
       "      <td>0</td>\n",
       "      <td>0</td>\n",
       "      <td>0</td>\n",
       "      <td>0</td>\n",
       "      <td>0</td>\n",
       "      <td>0</td>\n",
       "      <td>0</td>\n",
       "      <td>0</td>\n",
       "      <td>...</td>\n",
       "      <td>0</td>\n",
       "      <td>0</td>\n",
       "      <td>0</td>\n",
       "      <td>0</td>\n",
       "      <td>0</td>\n",
       "      <td>0</td>\n",
       "      <td>0</td>\n",
       "      <td>0</td>\n",
       "      <td>0</td>\n",
       "      <td>0</td>\n",
       "    </tr>\n",
       "    <tr>\n",
       "      <th>4</th>\n",
       "      <td>0</td>\n",
       "      <td>0</td>\n",
       "      <td>0</td>\n",
       "      <td>0</td>\n",
       "      <td>0</td>\n",
       "      <td>0</td>\n",
       "      <td>0</td>\n",
       "      <td>0</td>\n",
       "      <td>0</td>\n",
       "      <td>0</td>\n",
       "      <td>...</td>\n",
       "      <td>0</td>\n",
       "      <td>0</td>\n",
       "      <td>0</td>\n",
       "      <td>0</td>\n",
       "      <td>0</td>\n",
       "      <td>0</td>\n",
       "      <td>0</td>\n",
       "      <td>0</td>\n",
       "      <td>0</td>\n",
       "      <td>0</td>\n",
       "    </tr>\n",
       "  </tbody>\n",
       "</table>\n",
       "<p>5 rows × 784 columns</p>\n",
       "</div>"
      ],
      "text/plain": [
       "   pixel0  pixel1  pixel2  pixel3  pixel4  pixel5  pixel6  pixel7  pixel8  \\\n",
       "0       0       0       0       0       0       0       0       0       0   \n",
       "1       0       0       0       0       0       0       0       0       0   \n",
       "2       0       0       0       0       0       0       0       0       0   \n",
       "3       0       0       0       0       0       0       0       0       0   \n",
       "4       0       0       0       0       0       0       0       0       0   \n",
       "\n",
       "   pixel9  ...  pixel774  pixel775  pixel776  pixel777  pixel778  pixel779  \\\n",
       "0       0  ...         0         0         0         0         0         0   \n",
       "1       0  ...         0         0         0         0         0         0   \n",
       "2       0  ...         0         0         0         0         0         0   \n",
       "3       0  ...         0         0         0         0         0         0   \n",
       "4       0  ...         0         0         0         0         0         0   \n",
       "\n",
       "   pixel780  pixel781  pixel782  pixel783  \n",
       "0         0         0         0         0  \n",
       "1         0         0         0         0  \n",
       "2         0         0         0         0  \n",
       "3         0         0         0         0  \n",
       "4         0         0         0         0  \n",
       "\n",
       "[5 rows x 784 columns]"
      ]
     },
     "execution_count": 5,
     "metadata": {},
     "output_type": "execute_result"
    }
   ],
   "source": [
    "test_data_df.head(5)"
   ]
  },
  {
   "cell_type": "code",
   "execution_count": 6,
   "id": "81edbe8b",
   "metadata": {},
   "outputs": [
    {
     "name": "stdout",
     "output_type": "stream",
     "text": [
      "<class 'pandas.core.frame.DataFrame'>\n",
      "RangeIndex: 42000 entries, 0 to 41999\n",
      "Columns: 785 entries, label to pixel783\n",
      "dtypes: int64(785)\n",
      "memory usage: 251.5 MB\n"
     ]
    }
   ],
   "source": [
    "train_data_df.info()"
   ]
  },
  {
   "cell_type": "code",
   "execution_count": 7,
   "id": "acf2eda8",
   "metadata": {},
   "outputs": [
    {
     "name": "stdout",
     "output_type": "stream",
     "text": [
      "<class 'pandas.core.frame.DataFrame'>\n",
      "RangeIndex: 28000 entries, 0 to 27999\n",
      "Columns: 784 entries, pixel0 to pixel783\n",
      "dtypes: int64(784)\n",
      "memory usage: 167.5 MB\n"
     ]
    }
   ],
   "source": [
    "test_data_df.info()"
   ]
  },
  {
   "cell_type": "code",
   "execution_count": 8,
   "id": "366bf43a",
   "metadata": {},
   "outputs": [
    {
     "name": "stdout",
     "output_type": "stream",
     "text": [
      "Max pixel value =  255\n",
      "Max pixel value =  0\n"
     ]
    }
   ],
   "source": [
    "print(\"Max pixel value = \", test_data_df.values.max())\n",
    "print(\"Max pixel value = \", test_data_df.values.min())"
   ]
  },
  {
   "cell_type": "code",
   "execution_count": 9,
   "id": "51063a12",
   "metadata": {},
   "outputs": [],
   "source": [
    "#preparing data for futher steps\n",
    "\n",
    "train_images_tensor = train_data_df.drop(\"label\", axis=1).values.reshape(-1, 28, 28)\n",
    "train_image_labels = train_data_df[\"label\"].values\n",
    "\n",
    "test_images_tensor = test_data_df.values.reshape(-1, 28, 28)\n"
   ]
  },
  {
   "cell_type": "code",
   "execution_count": 10,
   "id": "1c918894",
   "metadata": {},
   "outputs": [
    {
     "name": "stdout",
     "output_type": "stream",
     "text": [
      "Train images tensor shape:  (42000, 28, 28)\n",
      "Test images tensor shape:  (28000, 28, 28)\n"
     ]
    }
   ],
   "source": [
    "print(\"Train images tensor shape: \", train_images_tensor.shape)\n",
    "print(\"Test images tensor shape: \", test_images_tensor.shape)"
   ]
  },
  {
   "cell_type": "markdown",
   "id": "b37d2f5b",
   "metadata": {},
   "source": [
    "### EX01: Visualize Data"
   ]
  },
  {
   "cell_type": "code",
   "execution_count": 11,
   "id": "62d52173",
   "metadata": {},
   "outputs": [],
   "source": [
    "def display_img(n, image_labels, image_pixels_tensor, y_predicts=None):\n",
    "    i = 0\n",
    "    \n",
    "    num_images = len(image_pixels_tensor)\n",
    "    end_index = min(i + n, num_images)\n",
    "    num_rows = (end_index - i + 3) // 4  # Calculate number of rows required\n",
    "\n",
    "    fig, axes = plt.subplots(num_rows, 4, figsize=(12, 3*num_rows))\n",
    "\n",
    "    for j in range(i, end_index):\n",
    "        row = (j - i) // 4\n",
    "        col = (j - i) % 4\n",
    "        axes[row, col].imshow(image_pixels_tensor[j] / 255, cmap=\"gray\")\n",
    "        axes[row, col].set_title(f\"Label for image: {int(image_labels[j])}\", fontsize=14)\n",
    "        if (y_predicts is not None):\n",
    "            axes[row, col].set_title(f\"Label for image: {int(image_labels[j])}\\nPrediction for image: {int(y_predicts[j])}\", fontsize=14)\n",
    "            \n",
    "        axes[row, col].axis('off')\n",
    "\n",
    "    # Hide any empty subplots\n",
    "    for j in range(end_index - i, num_rows*4):\n",
    "        row = j // 4\n",
    "        col = j % 4\n",
    "        axes[row, col].axis('off')\n",
    "\n",
    "    plt.tight_layout()\n",
    "    plt.show()\n"
   ]
  },
  {
   "cell_type": "code",
   "execution_count": 12,
   "id": "0767e508",
   "metadata": {},
   "outputs": [
    {
     "data": {
      "image/png": "[encoded data removed]",
      "text/plain": [
       "<Figure size 864x864 with 16 Axes>"
      ]
     },
     "metadata": {
      "needs_background": "light"
     },
     "output_type": "display_data"
    }
   ],
   "source": [
    "display_img(16, train_image_labels, train_images_tensor)"
   ]
  },
  {
   "cell_type": "markdown",
   "id": "ed033d61",
   "metadata": {},
   "source": [
    "### Visualizing labels distribution\n"
   ]
  },
  {
   "cell_type": "code",
   "execution_count": 31,
   "id": "fce0ab2a",
   "metadata": {},
   "outputs": [
    {
     "data": {
      "image/png": "[encoded data removed]",
      "text/plain": [
       "<Figure size 864x504 with 1 Axes>"
      ]
     },
     "metadata": {
      "needs_background": "light"
     },
     "output_type": "display_data"
    }
   ],
   "source": [
    "labels_counts = train_data_df[\"label\"].value_counts()\n",
    "\n",
    "labels_df = pd.DataFrame(list(labels_counts.items()), columns=['label', 'count'])\n",
    "\n",
    "# Sort DataFrame by label in ascending order\n",
    "labels_df = labels_df.sort_values(by='label')\n",
    "\n",
    "# Visualize label distribution\n",
    "plt.figure(figsize=(12, 7))\n",
    "sns.barplot(x='label', y='count', data=labels_df,\n",
    "            order=labels_df['label'],\n",
    "            palette=sns.color_palette(\"magma\", len(labels_df)), hue=\"label\")\n",
    "\n",
    "plt.title('Label Distribution', fontsize=16)\n",
    "plt.xlabel('Label', fontsize=16)\n",
    "plt.ylabel('Count', fontsize=16)\n",
    "plt.xticks(fontsize=14)\n",
    "plt.yticks(fontsize=14)\n",
    "plt.show()"
   ]
  },
  {
   "cell_type": "markdown",
   "id": "86607e94",
   "metadata": {},
   "source": [
    "## EX02: Data splits"
   ]
  },
  {
   "cell_type": "code",
   "execution_count": 35,
   "id": "3e68b9ea",
   "metadata": {},
   "outputs": [
    {
     "data": {
      "text/plain": [
       "(42000, 785)"
      ]
     },
     "execution_count": 35,
     "metadata": {},
     "output_type": "execute_result"
    }
   ],
   "source": [
    "train_data_df.shape"
   ]
  },
  {
   "cell_type": "code",
   "execution_count": 49,
   "id": "f41f6037",
   "metadata": {},
   "outputs": [],
   "source": [
    "#shuffle data points randomly\n",
    "\n",
    "RANDOM_SEED = 42\n",
    "VAL_FRACTION = 0.1\n",
    "TEST_FRACTION = 0.1\n",
    "TRAIN_FRACTION = 1 - (VAL_FRACTION + TEST_FRACTION)\n",
    "\n",
    "DF_SIZE = len(train_data_df)\n",
    "\n",
    "\n",
    "shuffled_train_df = train_data_df.sample(frac=1.0, random_state=RANDOM_SEED)\n",
    "\n",
    "\n",
    "train_split_df = train_data_df[: int(TRAIN_FRACTION * DF_SIZE)]\n",
    "val_split_df = train_data_df[int(TRAIN_FRACTION * DF_SIZE): int((TRAIN_FRACTION + VAL_FRACTION) * DF_SIZE)]\n",
    "test_split_df = train_data_df[int((TRAIN_FRACTION + VAL_FRACTION) * DF_SIZE) : ]\n",
    "\n"
   ]
  },
  {
   "cell_type": "code",
   "execution_count": 57,
   "id": "8b32c1a5",
   "metadata": {},
   "outputs": [
    {
     "name": "stdout",
     "output_type": "stream",
     "text": [
      "Train data shape:  (28, 28, 33600)\n",
      "Validation data shape:  (28, 28, 4200)\n",
      "Test data shape:  (28, 28, 4200)\n"
     ]
    }
   ],
   "source": [
    "#Preprocessing steps\n",
    "\n",
    "X_train, y_train =  train_split_df.drop(\"label\", axis=1).values, train_split_df[\"label\"].values\n",
    "X_val, y_val =  val_split_df.drop(\"label\", axis=1).values, val_split_df[\"label\"].values\n",
    "X_test, y_test =  test_split_df.drop(\"label\", axis=1).values, test_split_df[\"label\"].values\n",
    "\n",
    "\n",
    "#reshaping labels to make them 2D\n",
    "y_train = y_train.reshape(-1, 1)\n",
    "y_val = y_val.reshape(-1, 1)\n",
    "y_test = y_test.reshape(-1, 1)\n",
    "\n",
    "#Normalizing images\n",
    "X_train = X_train / 255.0\n",
    "X_val = X_val / 255.0\n",
    "X_test = X_test / 255.0\n",
    "\n",
    "#Wrapping back to 2D img instead of flattened vec\n",
    "X_train = X_train.reshape(28, 28, -1)\n",
    "X_val = X_val.reshape(28, 28, -1)\n",
    "X_test = X_test.reshape(28, 28, -1)\n",
    "\n",
    "\n",
    "print(\"Train data shape: \", X_train.shape)\n",
    "print(\"Validation data shape: \", X_val.shape)\n",
    "print(\"Test data shape: \", X_test.shape)\n",
    "\n"
   ]
  },
  {
   "cell_type": "markdown",
   "id": "711b2a2b",
   "metadata": {},
   "source": [
    "## EX03: Building Convolutional NN with Keras\n"
   ]
  },
  {
   "cell_type": "code",
   "execution_count": 69,
   "id": "e6abd8f9",
   "metadata": {},
   "outputs": [
    {
     "name": "stdout",
     "output_type": "stream",
     "text": [
      "Model: \"sequential_14\"\n",
      "_________________________________________________________________\n",
      " Layer (type)                Output Shape              Param #   \n",
      "=================================================================\n",
      " Convolution_1 (Conv2D)      (None, 24, 24, 32)        832       \n",
      "                                                                 \n",
      " MaxPool_2x2_1 (MaxPooling2  (None, 12, 12, 32)        0         \n",
      " D)                                                              \n",
      "                                                                 \n",
      " Convolution_2 (Conv2D)      (None, 8, 8, 64)          51264     \n",
      "                                                                 \n",
      " MaxPool_2x2_2 (MaxPooling2  (None, 4, 4, 64)          0         \n",
      " D)                                                              \n",
      "                                                                 \n",
      " Flattened_layer (Flatten)   (None, 1024)              0         \n",
      "                                                                 \n",
      " Dense_128 (Dense)           (None, 128)               131200    \n",
      "                                                                 \n",
      " Softmax_output (Dense)      (None, 10)                1290      \n",
      "                                                                 \n",
      "=================================================================\n",
      "Total params: 184586 (721.04 KB)\n",
      "Trainable params: 184586 (721.04 KB)\n",
      "Non-trainable params: 0 (0.00 Byte)\n",
      "_________________________________________________________________\n"
     ]
    }
   ],
   "source": [
    "N1_CHANNELS = 32\n",
    "N2_CHANNELS = 64\n",
    "N3_UNITS = 128\n",
    "N_LABELS = 10\n",
    "\n",
    "\n",
    "model = keras.Sequential([\n",
    "    \n",
    "    keras.layers.InputLayer(input_shape=(28, 28, 1), name=\"Input_Layer\"),\n",
    "    \n",
    "    keras.layers.Conv2D(filters=N1_CHANNELS, kernel_size=(5, 5), padding=\"valid\", name=\"Convolution_1\"),\n",
    "    \n",
    "    keras.layers.MaxPooling2D(pool_size=(2, 2), name=\"MaxPool_2x2_1\"),\n",
    "    \n",
    "    keras.layers.Conv2D(filters=N2_CHANNELS, kernel_size=(5, 5), padding=\"valid\", name=\"Convolution_2\"),\n",
    "    \n",
    "    keras.layers.MaxPooling2D(pool_size=(2, 2), name=\"MaxPool_2x2_2\"),\n",
    "    \n",
    "    keras.layers.Flatten(name=\"Flattened_layer\"),\n",
    "    \n",
    "    keras.layers.Dense(units=N3_UNITS, activation=\"relu\", name=\"Dense_128\"),\n",
    "    \n",
    "    keras.layers.Dense(units=N_LABELS, activation=\"softmax\", name=\"Softmax_output\")\n",
    "    \n",
    "])\n",
    "\n",
    "model.summary()\n"
   ]
  },
  {
   "cell_type": "code",
   "execution_count": 72,
   "id": "5aff0462",
   "metadata": {},
   "outputs": [
    {
     "data": {
      "image/png": "[encoded data removed]",
      "text/plain": [
       "<IPython.core.display.Image object>"
      ]
     },
     "execution_count": 72,
     "metadata": {},
     "output_type": "execute_result"
    }
   ],
   "source": [
    "keras.utils.plot_model(model, rankdir=\"LR\")"
   ]
  },
  {
   "cell_type": "code",
   "execution_count": null,
   "id": "7a3448c8",
   "metadata": {},
   "outputs": [],
   "source": []
  }
 ],
 "metadata": {
  "kernelspec": {
   "display_name": "Python 3 (ipykernel)",
   "language": "python",
   "name": "python3"
  },
  "language_info": {
   "codemirror_mode": {
    "name": "ipython",
    "version": 3
   },
   "file_extension": ".py",
   "mimetype": "text/x-python",
   "name": "python",
   "nbconvert_exporter": "python",
   "pygments_lexer": "ipython3",
   "version": "3.10.12"
  }
 },
 "nbformat": 4,
 "nbformat_minor": 5
}
